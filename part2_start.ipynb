{
 "cells": [
  {
   "cell_type": "code",
   "execution_count": 87,
   "metadata": {},
   "outputs": [],
   "source": [
    "import pandas as pd\n",
    "import numpy as np\n",
    "\n",
    "from sklearn.model_selection import cross_val_score\n",
    "from sklearn.metrics import roc_auc_score\n",
    "from sklearn.metrics import accuracy_score\n",
    "\n",
    "##Seaborn for fancy plots. \n",
    "import matplotlib.pyplot as plt\n",
    "import seaborn as sns\n",
    "plt.rcParams[\"figure.figsize\"] = (8,8)\n",
    "import math\n",
    "import sklearn.datasets\n",
    "from sklearn.model_selection import train_test_split\n",
    "from sklearn.tree import DecisionTreeClassifier\n",
    "from sklearn.tree import DecisionTreeClassifier\n",
    "from sklearn.pipeline import Pipeline\n",
    "from sklearn.preprocessing import StandardScaler\n",
    "from sklearn.model_selection import GridSearchCV\n",
    "from sklearn.ensemble import RandomForestClassifier\n",
    "from sklearn.tree import plot_tree\n",
    "from sklearn.model_selection import cross_val_score"
   ]
  },
  {
   "cell_type": "code",
   "execution_count": 88,
   "metadata": {},
   "outputs": [],
   "source": [
    "import missingno\n",
    "import ml_utils"
   ]
  },
  {
   "attachments": {},
   "cell_type": "markdown",
   "metadata": {},
   "source": [
    "## 3950 Assignment 1: Part 2\n",
    "\n",
    "For this assignment we want to use some sort of tree based model to classify the data below. We have a very small training set, so overfitting is a very real concern. \n",
    "\n",
    "Some specifics for this assignment:\n",
    "<ul>\n",
    "<li>Please use the show_eda to control if EDA stuff is shown. I don't really need to see all the EDA stuff (nor do you after you've done it), so we can make it configurable with a variable to speed up time. Please set this FALSE when you submit, so I can run all and see the outcome without histograms etc...\n",
    "<li>Please ensure that whatever model you end up with is in a variable named best at the end.\n",
    "<li>Please use some pipeline in prepping the data. The test data is in an identical format to the training data, so whatever pipeline you've created for your training will work for the testing. \n",
    "<li>The accuracy scoring will be an average of accuracy and roc_auc. \n",
    "</ul>\n",
    "\n",
    "### Grading Metrics\n",
    "<ul>\n",
    "<li><b>Pipeline Used - 10pts</b> The data loading needs to be in a pipeline. See the test part for illustration. When testing I'll call your pipe with the new data (format is identical to training), so any prep stuff should be in the pipeline. \n",
    "<li><b>Tree Based Model Used - 5pts</b> The model used for classification needs to be some variety of tree, beyond that it is up to you. \n",
    "<li><b>Accuracy - 5pts</b> The final accuracy acheived. This will be a rough ranking, I'm assuming most people will get a similar level of accuracy, marks will only be deducted if yours is far wosrse, as that's an indication that you probably didn't take any/many steps to improve things. \n",
    "<li><b>Clarity and Formatting - 5pts</b> Is it organized and can I read it?\n",
    "    <ul>\n",
    "    <li> <b>Note:</b> for this assignment, and in general, please get rid of my comments and replace them with your own. I'm going to read this, so all of these instructions aren't really required. Think of this as a template, get rid of the stuff that isn't needed, and leave only the things you need to explain your code. \n",
    "    </ul>\n",
    "</ul>\n",
    "\n",
    "For submission, please drop the URL for your repository in the dropbox."
   ]
  },
  {
   "cell_type": "code",
   "execution_count": 89,
   "metadata": {},
   "outputs": [],
   "source": [
    "\n",
    "name = \"Navneet Kaur\""
   ]
  },
  {
   "cell_type": "code",
   "execution_count": 90,
   "metadata": {},
   "outputs": [
    {
     "data": {
      "text/html": [
       "<div>\n",
       "<style scoped>\n",
       "    .dataframe tbody tr th:only-of-type {\n",
       "        vertical-align: middle;\n",
       "    }\n",
       "\n",
       "    .dataframe tbody tr th {\n",
       "        vertical-align: top;\n",
       "    }\n",
       "\n",
       "    .dataframe thead th {\n",
       "        text-align: right;\n",
       "    }\n",
       "</style>\n",
       "<table border=\"1\" class=\"dataframe\">\n",
       "  <thead>\n",
       "    <tr style=\"text-align: right;\">\n",
       "      <th></th>\n",
       "      <th>target</th>\n",
       "      <th>var_1</th>\n",
       "      <th>var_2</th>\n",
       "      <th>var_3</th>\n",
       "      <th>var_4</th>\n",
       "      <th>var_5</th>\n",
       "      <th>var_6</th>\n",
       "      <th>var_7</th>\n",
       "      <th>var_8</th>\n",
       "      <th>var_9</th>\n",
       "      <th>...</th>\n",
       "      <th>var_191</th>\n",
       "      <th>var_192</th>\n",
       "      <th>var_193</th>\n",
       "      <th>var_194</th>\n",
       "      <th>var_195</th>\n",
       "      <th>var_196</th>\n",
       "      <th>var_197</th>\n",
       "      <th>var_198</th>\n",
       "      <th>var_199</th>\n",
       "      <th>var_200</th>\n",
       "    </tr>\n",
       "  </thead>\n",
       "  <tbody>\n",
       "    <tr>\n",
       "      <th>174</th>\n",
       "      <td>1</td>\n",
       "      <td>0.774</td>\n",
       "      <td>0.093</td>\n",
       "      <td>0.479</td>\n",
       "      <td>0.232</td>\n",
       "      <td>0.432</td>\n",
       "      <td>0.892</td>\n",
       "      <td>0.021</td>\n",
       "      <td>0.041</td>\n",
       "      <td>0.944</td>\n",
       "      <td>...</td>\n",
       "      <td>0.957</td>\n",
       "      <td>0.171</td>\n",
       "      <td>0.236</td>\n",
       "      <td>0.361</td>\n",
       "      <td>0.717</td>\n",
       "      <td>0.388</td>\n",
       "      <td>0.351</td>\n",
       "      <td>0.973</td>\n",
       "      <td>0.258</td>\n",
       "      <td>0.888</td>\n",
       "    </tr>\n",
       "    <tr>\n",
       "      <th>68</th>\n",
       "      <td>1</td>\n",
       "      <td>0.850</td>\n",
       "      <td>0.576</td>\n",
       "      <td>0.899</td>\n",
       "      <td>0.360</td>\n",
       "      <td>0.879</td>\n",
       "      <td>0.055</td>\n",
       "      <td>0.010</td>\n",
       "      <td>0.637</td>\n",
       "      <td>0.471</td>\n",
       "      <td>...</td>\n",
       "      <td>0.228</td>\n",
       "      <td>0.577</td>\n",
       "      <td>0.366</td>\n",
       "      <td>0.930</td>\n",
       "      <td>0.132</td>\n",
       "      <td>0.782</td>\n",
       "      <td>0.248</td>\n",
       "      <td>0.038</td>\n",
       "      <td>0.792</td>\n",
       "      <td>0.099</td>\n",
       "    </tr>\n",
       "    <tr>\n",
       "      <th>75</th>\n",
       "      <td>0</td>\n",
       "      <td>0.125</td>\n",
       "      <td>0.464</td>\n",
       "      <td>0.599</td>\n",
       "      <td>0.673</td>\n",
       "      <td>0.205</td>\n",
       "      <td>0.784</td>\n",
       "      <td>0.210</td>\n",
       "      <td>0.378</td>\n",
       "      <td>0.723</td>\n",
       "      <td>...</td>\n",
       "      <td>0.722</td>\n",
       "      <td>0.577</td>\n",
       "      <td>0.419</td>\n",
       "      <td>0.109</td>\n",
       "      <td>0.083</td>\n",
       "      <td>0.966</td>\n",
       "      <td>0.088</td>\n",
       "      <td>0.849</td>\n",
       "      <td>0.870</td>\n",
       "      <td>0.829</td>\n",
       "    </tr>\n",
       "    <tr>\n",
       "      <th>120</th>\n",
       "      <td>1</td>\n",
       "      <td>0.390</td>\n",
       "      <td>0.208</td>\n",
       "      <td>0.249</td>\n",
       "      <td>0.579</td>\n",
       "      <td>0.419</td>\n",
       "      <td>0.844</td>\n",
       "      <td>0.419</td>\n",
       "      <td>0.084</td>\n",
       "      <td>0.109</td>\n",
       "      <td>...</td>\n",
       "      <td>0.620</td>\n",
       "      <td>0.263</td>\n",
       "      <td>0.722</td>\n",
       "      <td>0.614</td>\n",
       "      <td>0.825</td>\n",
       "      <td>0.472</td>\n",
       "      <td>0.877</td>\n",
       "      <td>0.059</td>\n",
       "      <td>0.005</td>\n",
       "      <td>0.633</td>\n",
       "    </tr>\n",
       "    <tr>\n",
       "      <th>124</th>\n",
       "      <td>0</td>\n",
       "      <td>0.244</td>\n",
       "      <td>0.030</td>\n",
       "      <td>0.627</td>\n",
       "      <td>0.907</td>\n",
       "      <td>0.047</td>\n",
       "      <td>0.127</td>\n",
       "      <td>0.073</td>\n",
       "      <td>0.615</td>\n",
       "      <td>0.032</td>\n",
       "      <td>...</td>\n",
       "      <td>0.730</td>\n",
       "      <td>0.364</td>\n",
       "      <td>0.125</td>\n",
       "      <td>0.291</td>\n",
       "      <td>0.138</td>\n",
       "      <td>0.494</td>\n",
       "      <td>0.921</td>\n",
       "      <td>0.595</td>\n",
       "      <td>0.399</td>\n",
       "      <td>0.445</td>\n",
       "    </tr>\n",
       "  </tbody>\n",
       "</table>\n",
       "<p>5 rows × 201 columns</p>\n",
       "</div>"
      ],
      "text/plain": [
       "     target  var_1  var_2  var_3  var_4  var_5  var_6  var_7  var_8  var_9  \\\n",
       "174       1  0.774  0.093  0.479  0.232  0.432  0.892  0.021  0.041  0.944   \n",
       "68        1  0.850  0.576  0.899  0.360  0.879  0.055  0.010  0.637  0.471   \n",
       "75        0  0.125  0.464  0.599  0.673  0.205  0.784  0.210  0.378  0.723   \n",
       "120       1  0.390  0.208  0.249  0.579  0.419  0.844  0.419  0.084  0.109   \n",
       "124       0  0.244  0.030  0.627  0.907  0.047  0.127  0.073  0.615  0.032   \n",
       "\n",
       "     ...  var_191  var_192  var_193  var_194  var_195  var_196  var_197  \\\n",
       "174  ...    0.957    0.171    0.236    0.361    0.717    0.388    0.351   \n",
       "68   ...    0.228    0.577    0.366    0.930    0.132    0.782    0.248   \n",
       "75   ...    0.722    0.577    0.419    0.109    0.083    0.966    0.088   \n",
       "120  ...    0.620    0.263    0.722    0.614    0.825    0.472    0.877   \n",
       "124  ...    0.730    0.364    0.125    0.291    0.138    0.494    0.921   \n",
       "\n",
       "     var_198  var_199  var_200  \n",
       "174    0.973    0.258    0.888  \n",
       "68     0.038    0.792    0.099  \n",
       "75     0.849    0.870    0.829  \n",
       "120    0.059    0.005    0.633  \n",
       "124    0.595    0.399    0.445  \n",
       "\n",
       "[5 rows x 201 columns]"
      ]
     },
     "execution_count": 90,
     "metadata": {},
     "output_type": "execute_result"
    }
   ],
   "source": [
    "#Load data\n",
    "df = pd.read_csv(\"training.csv\")\n",
    "df = df.drop(columns={\"id\"})\n",
    "df.sample(5)"
   ]
  },
  {
   "cell_type": "markdown",
   "metadata": {},
   "source": [
    "### Starting\n",
    "\n",
    "For this assignment, you have a small training set, so combatting overfitting is key in being accurate!"
   ]
  },
  {
   "cell_type": "code",
   "execution_count": 91,
   "metadata": {},
   "outputs": [
    {
     "data": {
      "text/plain": [
       "(250, 201)"
      ]
     },
     "execution_count": 91,
     "metadata": {},
     "output_type": "execute_result"
    }
   ],
   "source": [
    "df.shape"
   ]
  },
  {
   "cell_type": "code",
   "execution_count": 92,
   "metadata": {},
   "outputs": [
    {
     "name": "stdout",
     "output_type": "stream",
     "text": [
      "<class 'pandas.core.frame.DataFrame'>\n",
      "RangeIndex: 250 entries, 0 to 249\n",
      "Columns: 201 entries, target to var_200\n",
      "dtypes: float64(200), int64(1)\n",
      "memory usage: 392.7 KB\n"
     ]
    }
   ],
   "source": [
    "df.info()"
   ]
  },
  {
   "cell_type": "code",
   "execution_count": 93,
   "metadata": {},
   "outputs": [
    {
     "name": "stdout",
     "output_type": "stream",
     "text": [
      "target\n"
     ]
    }
   ],
   "source": [
    "df_eda = ml_utils.edaDF(df,\"target\")\n",
    "print(df_eda.giveTarget())"
   ]
  },
  {
   "attachments": {},
   "cell_type": "markdown",
   "metadata": {},
   "source": [
    "<li>Eda stuff- it takes long to complete,so i decide not to show here,but no missing or duplicated values were found during analysis."
   ]
  },
  {
   "attachments": {},
   "cell_type": "markdown",
   "metadata": {},
   "source": [
    "#### Do Modelling Stuff\n",
    "\n",
    "Make a tree model (of some vareity) and make it fit well. Keep in mind the possibility of your tree overfitting, and think of steps you may need to combat that shoudl it occur. "
   ]
  },
  {
   "cell_type": "code",
   "execution_count": 94,
   "metadata": {},
   "outputs": [],
   "source": [
    "y = np.array(df[\"target\"]).reshape(-1,1).ravel()\n",
    "X = np.array(df.drop(columns={\"target\"}))\n",
    "X_train, X_test, y_train, y_test = train_test_split(X, y) #spliiting in test training set"
   ]
  },
  {
   "cell_type": "code",
   "execution_count": 99,
   "metadata": {},
   "outputs": [
    {
     "name": "stdout",
     "output_type": "stream",
     "text": [
      "Best parameters:  {'classifier__criterion': 'entropy', 'classifier__max_depth': 7, 'classifier__min_samples_leaf': 5, 'classifier__min_samples_split': 8}\n",
      "Best Training score:  0.6580369843527738\n"
     ]
    }
   ],
   "source": [
    "# Create the decision tree classifier-tested with both tree classifiers decision tree and random forest \n",
    "#tree_clf = DecisionTreeClassifier()\n",
    "rf_clf = RandomForestClassifier()\n",
    "# Create the pipeline\n",
    "pipe = Pipeline([\n",
    "    ('scaler', StandardScaler()),\n",
    "    ('classifier', rf_clf)])\n",
    "# Define the parameter grid\n",
    "param_grid = { 'classifier__max_depth': [3, 5, 7, 9],\n",
    "    'classifier__min_samples_split': [4, 6, 8, 10],\n",
    "    'classifier__min_samples_leaf': [ 5, 7, 9],\n",
    "    #'classifier__max_features': ['auto', 'sqrt', 'log2']\n",
    "    'classifier__criterion': [ 'entropy'],\n",
    "    #'classifier__n_estimators': [ 50, 100,200]\n",
    "    }\n",
    "# Create the grid search object\n",
    "grid_search = GridSearchCV(pipe, param_grid, cv=5)\n",
    "\n",
    "# Fit the grid search to the data\n",
    "grid_search.fit(X_train, y_train)\n",
    "\n",
    "# Print the best parameters and the best score\n",
    "print(\"Best parameters: \", grid_search.best_params_)\n",
    "print(\"Best Training score: \", grid_search.best_score_)\n"
   ]
  },
  {
   "cell_type": "code",
   "execution_count": 100,
   "metadata": {},
   "outputs": [
    {
     "name": "stdout",
     "output_type": "stream",
     "text": [
      "Model test Score 0.6190476190476191\n",
      "Final Model Pipeline(steps=[('scaler', StandardScaler()),\n",
      "                ('classifier',\n",
      "                 RandomForestClassifier(criterion='entropy', max_depth=7,\n",
      "                                        min_samples_leaf=5,\n",
      "                                        min_samples_split=8))])\n"
     ]
    }
   ],
   "source": [
    "best = grid_search.best_estimator_\n",
    "print(\"Model test Score\",best.score(X_test, y_test))\n",
    "print(\"Final Model\", best)"
   ]
  },
  {
   "cell_type": "markdown",
   "metadata": {},
   "source": [
    "### Testing\n",
    "\n",
    "Please leave the stuff below as-is in your file. \n",
    "\n",
    "This will take your best model and score it with the test data. If you want to test to make sure that yours works, make a copy of the data file and rename it testing.csv, then make sure this runs ok. I will do the same, but the contents of my test file will be different. "
   ]
  },
  {
   "cell_type": "code",
   "execution_count": null,
   "metadata": {},
   "outputs": [],
   "source": [
    "#Load Test Data\n",
    "test_df = pd.read_csv(\"testing.csv\")\n",
    "test_df = test_df.drop(columns={\"id\"})\n",
    "#Create tests and score\n",
    "test_y = np.array(test_df[\"target\"]).reshape(-1,1)\n",
    "test_X = np.array(test_df.drop(columns={\"target\"}))\n",
    "\n",
    "preds = best.predict(test_X)\n",
    "\n",
    "roc_score = roc_auc_score(test_y, preds)\n",
    "acc_score = accuracy_score(test_y, preds)\n",
    "\n",
    "print(roc_score)\n",
    "print(acc_score)\n",
    "print(name, np.mean([roc_score, acc_score]))\n"
   ]
  },
  {
   "attachments": {},
   "cell_type": "markdown",
   "metadata": {},
   "source": [
    "### What Accuracy Changes Were Used\n",
    "\n",
    "Please list here what you did to try to increase accuracy and/or limit overfitting:\n",
    "<li>with decision tree classifier & the Best parameters - Best score were  0.56& for testing data it was 0.38 as there is large difference in training and testing accuracy so our model seems to overfitted.So,Random forest classifier was used.\n",
    "<li>i used CROSS VALIDATION to combat overfitting \n",
    "<li>if we decided to test more parameters in grid search cv it would take a very long time to run so i decided to test few parameters at moment to find best to increase accuracy/limit overfitting.\n",
    "<li>on changing  tree to random forest & choosing three  Best parameters\n",
    "Best score:  0.6368421052631579 & for test-0.52,\n",
    "<li>on adding max feature parameter, feature parameter is log2 accuracy changed to 0.63 and for testing -.50 #but it takes about 5 mins to run\n",
    "<li>accuraccy increased to 0.71 if i specified entropy.\n",
    "<li>After trying many combination of parameters, Finally best model has these  parameters:  {'classifier__criterion': 'entropy', 'classifier__max_depth': 5, 'classifier__min_samples_leaf': 7, 'classifier__min_samples_split': 4} and accuracy of 0.66 and 0.62 with training and testing data respectively .Moreover (train_acc - test_acc) < 0.05,so our best model is not overfitted.\n",
    "    "
   ]
  }
 ],
 "metadata": {
  "kernelspec": {
   "display_name": "base",
   "language": "python",
   "name": "python3"
  },
  "language_info": {
   "codemirror_mode": {
    "name": "ipython",
    "version": 3
   },
   "file_extension": ".py",
   "mimetype": "text/x-python",
   "name": "python",
   "nbconvert_exporter": "python",
   "pygments_lexer": "ipython3",
   "version": "3.9.12"
  },
  "orig_nbformat": 4,
  "vscode": {
   "interpreter": {
    "hash": "a111b36844a63776f55b7c11c775cf9cfa5bc77e90d0bb4e701e9fbdb569f031"
   }
  }
 },
 "nbformat": 4,
 "nbformat_minor": 2
}
